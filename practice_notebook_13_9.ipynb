{
  "nbformat": 4,
  "nbformat_minor": 0,
  "metadata": {
    "colab": {
      "provenance": [],
      "authorship_tag": "ABX9TyPrrraQOFTV7sp2y6mB0uqk",
      "include_colab_link": true
    },
    "kernelspec": {
      "name": "python3",
      "display_name": "Python 3"
    },
    "language_info": {
      "name": "python"
    }
  },
  "cells": [
    {
      "cell_type": "markdown",
      "metadata": {
        "id": "view-in-github",
        "colab_type": "text"
      },
      "source": [
        "<a href=\"https://colab.research.google.com/github/kchawale/practicebook-13-9/blob/main/practice_notebook_13_9.ipynb\" target=\"_parent\"><img src=\"https://colab.research.google.com/assets/colab-badge.svg\" alt=\"Open In Colab\"/></a>"
      ]
    },
    {
      "cell_type": "code",
      "execution_count": null,
      "metadata": {
        "colab": {
          "base_uri": "https://localhost:8080/"
        },
        "id": "Dnlv_WaQHzEF",
        "outputId": "5180ad64-a681-41c8-ab96-a9cded1325f5"
      },
      "outputs": [
        {
          "output_type": "stream",
          "name": "stdout",
          "text": [
            "i got 10 marks in maths ,  20 marks in history and 90 marks in english .\n"
          ]
        }
      ],
      "source": [
        "#formattimg way 1\n",
        "a=10\n",
        "b=20\n",
        "c=90\n",
        "print('i got {} marks in maths ,  {} marks in history and {} marks in english .'.format(a,b,c))"
      ]
    },
    {
      "cell_type": "code",
      "source": [
        "#formatting way 2\n",
        "a=10\n",
        "b=20\n",
        "c=90\n",
        "print(f'i got {a} marks in maths ,{b} marks in history and {c} marks in english .')"
      ],
      "metadata": {
        "colab": {
          "base_uri": "https://localhost:8080/"
        },
        "id": "u8sUyBctIVBV",
        "outputId": "f81e2db7-f7cd-4ece-d7ca-3cc86e288769"
      },
      "execution_count": null,
      "outputs": [
        {
          "output_type": "stream",
          "name": "stdout",
          "text": [
            "i got 10 marks in maths ,20 marks in history and 90 marks in english .\n"
          ]
        }
      ]
    },
    {
      "cell_type": "code",
      "source": [
        "#Elements of given list present on odd position\n",
        "a= [1, 2, 3, 4, 5];     \n",
        "print(\"Elements of given array present on odd position: \");       \n",
        "for i in range(0, len(a), 2):    \n",
        "    print(a[i]);     "
      ],
      "metadata": {
        "colab": {
          "base_uri": "https://localhost:8080/"
        },
        "id": "XAng0auTZ4IW",
        "outputId": "dc600b92-ebe6-4e76-abe7-d647b382c280"
      },
      "execution_count": 1,
      "outputs": [
        {
          "output_type": "stream",
          "name": "stdout",
          "text": [
            "Elements of given array present on odd position: \n",
            "1\n",
            "3\n",
            "5\n"
          ]
        }
      ]
    },
    {
      "cell_type": "code",
      "source": [
        "#print list in revrse order using for loop\n",
        "a=['kiran', 'madhu', 'shubham']\n",
        "for i in range(0, len(a)):    \n",
        "    print(a[i]),     \n",
        "print(\"list in reverse order: \")    \n",
        "for i in range(len(a)-1, -1, -1):     \n",
        "    print(a[i], end =\" \"),     \n"
      ],
      "metadata": {
        "colab": {
          "base_uri": "https://localhost:8080/"
        },
        "id": "sZq_5Pv5aowX",
        "outputId": "1f01e7d1-20eb-4d77-c234-22545a005d5a"
      },
      "execution_count": 2,
      "outputs": [
        {
          "output_type": "stream",
          "name": "stdout",
          "text": [
            "kiran\n",
            "madhu\n",
            "shubham\n",
            "list in reverse order: \n",
            "shubham madhu kiran "
          ]
        }
      ]
    },
    {
      "cell_type": "code",
      "source": [
        "# display numbers from -10 to -1 using for \n",
        "\n",
        "for i in range (-10, 0):\n",
        "    print(i)"
      ],
      "metadata": {
        "colab": {
          "base_uri": "https://localhost:8080/"
        },
        "id": "3GUezr0marV1",
        "outputId": "4854bb9d-a51a-4ebe-bf3e-948cef9c5bb5"
      },
      "execution_count": 3,
      "outputs": [
        {
          "output_type": "stream",
          "name": "stdout",
          "text": [
            "-10\n",
            "-9\n",
            "-8\n",
            "-7\n",
            "-6\n",
            "-5\n",
            "-4\n",
            "-3\n",
            "-2\n",
            "-1\n"
          ]
        }
      ]
    },
    {
      "cell_type": "code",
      "source": [
        "#program to display all prime numbers within range\n",
        "a = 1\n",
        "b = 100\n",
        "\n",
        "print(\"Prime numbers between\", a, \"and\", b, \"are:\")\n",
        "\n",
        "for num in range (a, b + 1):\n",
        "   \n",
        "   if num > 1:\n",
        "       for i in range(2, num):\n",
        "           if (num % i) == 0:\n",
        "               break\n",
        "       else:\n",
        "           print(num, end=\" \")\n"
      ],
      "metadata": {
        "colab": {
          "base_uri": "https://localhost:8080/"
        },
        "id": "GYSWFB6Na1ZJ",
        "outputId": "56f31891-a3bf-47f9-b230-013aaf21266c"
      },
      "execution_count": 5,
      "outputs": [
        {
          "output_type": "stream",
          "name": "stdout",
          "text": [
            "Prime numbers between 1 and 100 are:\n",
            "2 3 5 7 11 13 17 19 23 29 31 37 41 43 47 53 59 61 67 71 73 79 83 89 97 "
          ]
        }
      ]
    },
    {
      "cell_type": "code",
      "source": [
        "#program to display elements present at odd index position\n",
        "a= [1, 2, 3, 4, 5];     \n",
        "print(\"Elements of given array present on odd position: \");       \n",
        "for i in range(0, len(a), 2):    \n",
        "    print(a[i]);     "
      ],
      "metadata": {
        "colab": {
          "base_uri": "https://localhost:8080/"
        },
        "id": "UmEVSEz7a8Pl",
        "outputId": "70fb0ccd-cd0a-4f87-f4ef-2387478f526c"
      },
      "execution_count": 6,
      "outputs": [
        {
          "output_type": "stream",
          "name": "stdout",
          "text": [
            "Elements of given array present on odd position: \n",
            "1\n",
            "3\n",
            "5\n"
          ]
        }
      ]
    },
    {
      "cell_type": "code",
      "source": [
        "#find the factorial of givdn numbers, n,n-1,n-2,n-3\n",
        "num = int(input(\"Enter a number: \"))\n",
        "\n",
        "factorial = 1\n",
        "if num < 0:\n",
        "   print(\"Sorry, factorial does not exist for negative numbers\")\n",
        "elif num == 0:\n",
        "   print(\"The factorial of 0 is 1\")\n",
        "else:\n",
        "   for i in range(1,num + 1):\n",
        "       factorial = factorial*i\n",
        "   print(\"The factorial of\",num,\"is\",factorial)"
      ],
      "metadata": {
        "colab": {
          "base_uri": "https://localhost:8080/"
        },
        "id": "tFYoO6s5bBrE",
        "outputId": "3d6eef20-3a7e-40cf-e905-e832662ede71"
      },
      "execution_count": 7,
      "outputs": [
        {
          "output_type": "stream",
          "name": "stdout",
          "text": [
            "Enter a number: 4\n",
            "The factorial of 4 is 24\n"
          ]
        }
      ]
    },
    {
      "cell_type": "code",
      "source": [
        "#reverse a given integer number (n= 45736382)\n",
        "n=45736382\n",
        "print(str(n)[::-1])"
      ],
      "metadata": {
        "colab": {
          "base_uri": "https://localhost:8080/"
        },
        "id": "KSVMiu1FbKu6",
        "outputId": "133c7e54-a96b-4599-8753-0adb4319e11c"
      },
      "execution_count": 20,
      "outputs": [
        {
          "output_type": "stream",
          "name": "stdout",
          "text": [
            "28363754\n"
          ]
        }
      ]
    },
    {
      "cell_type": "code",
      "source": [
        "#calculate the cube of all numbers from 1 to given numbers (n=10)\n",
        "l = [1, 2, 3, 4,5,6,7,8,9,10]\n",
        "res = []\n",
        "for i in l:\n",
        "    res.append(i*i*i)\n",
        "print(res)"
      ],
      "metadata": {
        "colab": {
          "base_uri": "https://localhost:8080/"
        },
        "id": "8ZByycgVcXnQ",
        "outputId": "df453e8f-2f06-41dc-9121-1a2cc9291ec5"
      },
      "execution_count": 21,
      "outputs": [
        {
          "output_type": "stream",
          "name": "stdout",
          "text": [
            "[1, 8, 27, 64, 125, 216, 343, 512, 729, 1000]\n"
          ]
        }
      ]
    },
    {
      "cell_type": "code",
      "source": [
        "#find the sum of series upto n terms\n",
        "n = int(input(\"Enter value of n: \"))\n",
        "\n",
        "sum = n*(n+1)*(2*n+4)/12\n",
        "print(sum)"
      ],
      "metadata": {
        "colab": {
          "base_uri": "https://localhost:8080/"
        },
        "id": "29ULN7Oadgxm",
        "outputId": "f782220f-03a5-4941-8f02-1d0774ed7430"
      },
      "execution_count": 27,
      "outputs": [
        {
          "output_type": "stream",
          "name": "stdout",
          "text": [
            "Enter value of n: 5\n",
            "35.0\n"
          ]
        }
      ]
    },
    {
      "cell_type": "code",
      "source": [
        "#convert two list into dictionary\n",
        "a_keys = [\"krisha\", \"Kiran\", \"Varsha\"]\n",
        "b_values = [1, 4, 5]\n",
        "print (\"Original key list is : \" + str(a_keys))\n",
        "print (\"Original value list is : \" + str(b_values))\n",
        "  "
      ],
      "metadata": {
        "colab": {
          "base_uri": "https://localhost:8080/"
        },
        "id": "f10Wk2-2e07H",
        "outputId": "0b54a151-ec54-4cfb-a0bf-0a30124d4d02"
      },
      "execution_count": 28,
      "outputs": [
        {
          "output_type": "stream",
          "name": "stdout",
          "text": [
            "Original key list is : ['krisha', 'Kiran', 'Varsha']\n",
            "Original value list is : [1, 4, 5]\n"
          ]
        }
      ]
    },
    {
      "cell_type": "code",
      "source": [
        "#merge two python dictionary into one\n",
        "def Merge(d, d2):\n",
        "    return(d2.update(d1))\n",
        " \n",
        "d1 = {'a': 10, 'b': 8}\n",
        "d2 = {'d': 6, 'c': 4}\n",
        "print(Merge(d1, d2))\n",
        "print(d2)\n",
        " \n"
      ],
      "metadata": {
        "colab": {
          "base_uri": "https://localhost:8080/"
        },
        "id": "SJbsqkXUfhVJ",
        "outputId": "d9d609ce-7a49-41fd-8512-c114a20a54e6"
      },
      "execution_count": 33,
      "outputs": [
        {
          "output_type": "stream",
          "name": "stdout",
          "text": [
            "None\n",
            "{'d': 6, 'c': 4, 'a': 10, 'b': 8}\n"
          ]
        }
      ]
    },
    {
      "cell_type": "code",
      "source": [
        "#create a dict by extracting the keys from a given dict\n",
        "dict = {1: 'Geeks', 2: 'for', 3: 'geeks'}\n",
        "print(dict.keys())"
      ],
      "metadata": {
        "colab": {
          "base_uri": "https://localhost:8080/"
        },
        "id": "BApi1m5AgaBV",
        "outputId": "78ba6529-7c29-4615-f88a-4c05ccbad2df"
      },
      "execution_count": 34,
      "outputs": [
        {
          "output_type": "stream",
          "name": "stdout",
          "text": [
            "dict_keys([1, 2, 3])\n"
          ]
        }
      ]
    },
    {
      "cell_type": "code",
      "source": [
        "#remove and add item in a list\n",
        "list = ['Cake', 'Pizza', 'Juice', 'Pasta', 'Burger']\n",
        "list.remove('Juice')\n",
        "print(list)\n"
      ],
      "metadata": {
        "colab": {
          "base_uri": "https://localhost:8080/"
        },
        "id": "RTAwqmKmhjHs",
        "outputId": "abc2148b-5393-4fac-e0bb-f6ee96bcaab0"
      },
      "execution_count": 35,
      "outputs": [
        {
          "output_type": "stream",
          "name": "stdout",
          "text": [
            "['Cake', 'Pizza', 'Pasta', 'Burger']\n"
          ]
        }
      ]
    },
    {
      "cell_type": "code",
      "source": [
        "list = ['Cake', 'Pizza', 'Juice', 'Pasta', 'Burger']\n",
        "list.append('banana,')\n",
        "print(list)\n"
      ],
      "metadata": {
        "colab": {
          "base_uri": "https://localhost:8080/"
        },
        "id": "6PHZYJvYiU5E",
        "outputId": "2268c4a6-99e1-4e18-99f2-aa926cd703a5"
      },
      "execution_count": 42,
      "outputs": [
        {
          "output_type": "stream",
          "name": "stdout",
          "text": [
            "['Cake', 'Pizza', 'Juice', 'Pasta', 'Burger', 'banana,']\n"
          ]
        }
      ]
    },
    {
      "cell_type": "code",
      "source": [
        "#unpack the tuple into 4 variable\n",
        "a = (\"MNNIT Allahabad\", 5000, \"Engineering\") \n",
        " \n",
        "# this lines UNPACKS values\n",
        "# of variable a\n",
        "(college, student, type_ofcollege) = a \n",
        " \n",
        "# print college name\n",
        "print(college)\n",
        " \n",
        "# print no of student\n",
        "print(student)\n",
        " \n",
        "# print type of college\n",
        "print(type_ofcollege)"
      ],
      "metadata": {
        "colab": {
          "base_uri": "https://localhost:8080/"
        },
        "id": "lgF8ZWUMjUEW",
        "outputId": "4419ace2-dfa4-4034-b609-f9208a2606ac"
      },
      "execution_count": 43,
      "outputs": [
        {
          "output_type": "stream",
          "name": "stdout",
          "text": [
            "MNNIT Allahabad\n",
            "5000\n",
            "Engineering\n"
          ]
        }
      ]
    },
    {
      "cell_type": "code",
      "source": [
        "##unpack the tuple into 4 variable\n",
        "fruits = (\"apple\", \"banana\", \"cherry\", \"grapes\")\n",
        "\n",
        "(green, yellow, red, black) = fruits\n",
        "\n",
        "print(green)\n",
        "print(yellow)\n",
        "print(red)\n",
        "print(black)"
      ],
      "metadata": {
        "colab": {
          "base_uri": "https://localhost:8080/"
        },
        "id": "x_fcovDPkUdb",
        "outputId": "e69a0120-c8a7-4e3e-a0a4-054bbcd73cc9"
      },
      "execution_count": 44,
      "outputs": [
        {
          "output_type": "stream",
          "name": "stdout",
          "text": [
            "apple\n",
            "banana\n",
            "cherry\n",
            "grapes\n"
          ]
        }
      ]
    },
    {
      "cell_type": "code",
      "source": [
        "#swap two tuples in python\n",
        "tup_1 = ('hello', 'world')\n",
        "tup_2 = (1, 2, 3)\n",
        "print (tup_1, tup_2)\n",
        "tup_1, tup_2 = tup_2, tup_1\n",
        "print (tup_1, tup_2)\n"
      ],
      "metadata": {
        "colab": {
          "base_uri": "https://localhost:8080/"
        },
        "id": "9gpA-HSfknEg",
        "outputId": "249dfedb-ec6e-4623-bb9b-a49980ecf697"
      },
      "execution_count": 46,
      "outputs": [
        {
          "output_type": "stream",
          "name": "stdout",
          "text": [
            "('hello', 'world') (1, 2, 3)\n",
            "(1, 2, 3) ('hello', 'world')\n"
          ]
        }
      ]
    },
    {
      "cell_type": "code",
      "source": [
        "#copy specific element from one tuple to another tuple\n",
        "t1 = (10,20,30,40,50,60,70,80,90,100)\n",
        "t2 = t1[2:8]\n",
        "print(t2)"
      ],
      "metadata": {
        "colab": {
          "base_uri": "https://localhost:8080/"
        },
        "id": "1zA8HZTEll0R",
        "outputId": "bbe21d0f-c079-41b9-ada4-499bed68e1b2"
      },
      "execution_count": 47,
      "outputs": [
        {
          "output_type": "stream",
          "name": "stdout",
          "text": [
            "(30, 40, 50, 60, 70, 80)\n"
          ]
        }
      ]
    },
    {
      "cell_type": "code",
      "source": [
        "#sort a tuple of tuples by 2nd item\n",
        "tuple_ = (5, 2, 24, 3, 1, 6, 7)  \n",
        "sorted_ = tuple(sorted(tuple_))  \n",
        "print('Sorted Tuple :', sorted_)  \n",
        "print(type(sorted_))  \n"
      ],
      "metadata": {
        "colab": {
          "base_uri": "https://localhost:8080/"
        },
        "id": "M0SrcgZYmB4Q",
        "outputId": "dfa41e26-d4b7-44cc-a86f-3096b7c4f51e"
      },
      "execution_count": 48,
      "outputs": [
        {
          "output_type": "stream",
          "name": "stdout",
          "text": [
            "Sorted Tuple : (1, 2, 3, 5, 6, 7, 24)\n",
            "<class 'tuple'>\n"
          ]
        }
      ]
    },
    {
      "cell_type": "code",
      "source": [
        "#count the number of occurrencec of item 50 from a tuple\n",
        "tuple1 = (10, 8, 50, 2, 10, 15, 10, 50, 50, 8, 8, 2)\n",
        "x = [i for i in tuple1 if i == 50]\n",
        "print(\"the element 50 occures\", len(x), \"times\")"
      ],
      "metadata": {
        "colab": {
          "base_uri": "https://localhost:8080/"
        },
        "id": "twSvRUngmgT6",
        "outputId": "b2fdb1be-5233-4429-ad9e-e6aa22ba7626"
      },
      "execution_count": 49,
      "outputs": [
        {
          "output_type": "stream",
          "name": "stdout",
          "text": [
            "the element 50 occures 3 times\n"
          ]
        }
      ]
    },
    {
      "cell_type": "code",
      "source": [
        "#print this pattern \n",
        "rows = 5\n",
        "for i in range(0, rows):\n",
        "    for j in range(0, i + 1):\n",
        "        print(\"*\", end=' ')\n",
        "    print(\"\\r\")\n",
        "\n",
        "for i in range(rows, 0, -1):\n",
        "    for j in range(0, i - 1):\n",
        "        print(\"*\", end=' ')\n",
        "    print(\"\\r\")"
      ],
      "metadata": {
        "colab": {
          "base_uri": "https://localhost:8080/"
        },
        "id": "3zLJ096pnJhZ",
        "outputId": "5840f9c8-337f-4580-c2c4-93e5af227828"
      },
      "execution_count": 50,
      "outputs": [
        {
          "output_type": "stream",
          "name": "stdout",
          "text": [
            "* \r\n",
            "* * \r\n",
            "* * * \r\n",
            "* * * * \r\n",
            "* * * * * \r\n",
            "* * * * \r\n",
            "* * * \r\n",
            "* * \r\n",
            "* \r\n",
            "\r\n"
          ]
        }
      ]
    }
  ]
}